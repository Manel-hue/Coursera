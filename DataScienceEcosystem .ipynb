{
 "cells": [
  {
   "cell_type": "markdown",
   "id": "e78bfe8d-bc99-4bb4-a628-f012f9d3e4a1",
   "metadata": {},
   "source": [
    "# Data Science Tools and Ecosystem"
   ]
  },
  {
   "cell_type": "markdown",
   "id": "f13ab091-c38d-4d34-8335-12227cf5a421",
   "metadata": {},
   "source": [
    "## In this notevook, Data Science Tools and Ecosystem are sumarized"
   ]
  },
  {
   "cell_type": "markdown",
   "id": "3889c652-b324-4504-9d57-886d6a8ed05c",
   "metadata": {},
   "source": [
    "Some of the popular languages that Data Science use are:\n",
    "1. Python\n",
    "2. R\n",
    "3. Java\n",
    "4. Julia"
   ]
  },
  {
   "cell_type": "markdown",
   "id": "b4495741-b27d-4cfe-b2ed-8f3f47432886",
   "metadata": {},
   "source": [
    "| Data Science Tools |\n",
    "| ---- |\n",
    "| TenserFlow |\n",
    "| Apache Hadoop |\n",
    "| SAS |"
   ]
  },
  {
   "cell_type": "markdown",
   "id": "21e36f53-4031-4ebe-8ae9-c8179c0f6751",
   "metadata": {},
   "source": [
    "Below are a few examples of evaluating arithmetic expressions in Python\n",
    "3*(20+5)"
   ]
  },
  {
   "cell_type": "code",
   "execution_count": 11,
   "id": "f3a9cf5c-b4bd-4a96-a53f-2ba196b40aaa",
   "metadata": {},
   "outputs": [
    {
     "data": {
      "text/plain": [
       "17"
      ]
     },
     "execution_count": 11,
     "metadata": {},
     "output_type": "execute_result"
    }
   ],
   "source": [
    "(3*4)+5\n",
    "# This a simple arithmetic expression to mutiply then add integers"
   ]
  },
  {
   "cell_type": "code",
   "execution_count": 13,
   "id": "7c49f6ca-60f1-48aa-b062-4be09ff74951",
   "metadata": {},
   "outputs": [
    {
     "data": {
      "text/plain": [
       "3.3333333333333335"
      ]
     },
     "execution_count": 13,
     "metadata": {},
     "output_type": "execute_result"
    }
   ],
   "source": [
    "# This will convert 200 minutes to hours by diving by 60\n",
    "200/60"
   ]
  },
  {
   "cell_type": "markdown",
   "id": "b9d88157-17ca-43ae-9793-0b9f501407ca",
   "metadata": {},
   "source": [
    "Objetives: \n",
    "+ List popular languages for Data Science\n",
    "+ Share your Jupyter Notebook publicly on GitHub\n",
    "+  Demonstrate proficiency in Data Science toolkit knowledge"
   ]
  },
  {
   "cell_type": "markdown",
   "id": "73ca74d4-57e2-46c2-ae27-d03da42517e8",
   "metadata": {},
   "source": [
    "## Author\n",
    "Manuel Mendonça"
   ]
  },
  {
   "cell_type": "code",
   "execution_count": null,
   "id": "a594bd8c-fe1d-4236-8e4e-28fb0c1b755f",
   "metadata": {},
   "outputs": [],
   "source": []
  }
 ],
 "metadata": {
  "kernelspec": {
   "display_name": "Python 3 (ipykernel)",
   "language": "python",
   "name": "python3"
  },
  "language_info": {
   "codemirror_mode": {
    "name": "ipython",
    "version": 3
   },
   "file_extension": ".py",
   "mimetype": "text/x-python",
   "name": "python",
   "nbconvert_exporter": "python",
   "pygments_lexer": "ipython3",
   "version": "3.12.7"
  }
 },
 "nbformat": 4,
 "nbformat_minor": 5
}
