{
 "cells": [
  {
   "cell_type": "markdown",
   "id": "bdab2ce5-50b0-489a-a533-487592fe351d",
   "metadata": {},
   "source": [
    "# Final Exam C2M6"
   ]
  },
  {
   "cell_type": "markdown",
   "id": "c1afa921-1cf0-49ae-8590-391241c7eb4f",
   "metadata": {},
   "source": [
    "## This Exam is an introduction of Data Science"
   ]
  },
  {
   "cell_type": "markdown",
   "id": "624afca1-34a9-48c9-85dd-0e705fb429b2",
   "metadata": {},
   "source": [
    "List data science languages:\n",
    "1. Java\n",
    "2. Julia \n",
    "3. R\n",
    "4. Python"
   ]
  },
  {
   "cell_type": "markdown",
   "id": "62041034-cac7-441f-86ed-43608dabf10a",
   "metadata": {},
   "source": [
    "List data science libraries:\n",
    "- NumPy\n",
    "- Pandas\n",
    "- Keras\n",
    "- Matplotlib"
   ]
  },
  {
   "cell_type": "markdown",
   "id": "e0ebd656-0cb9-4a13-b155-198659038cdd",
   "metadata": {},
   "source": [
    "| Data Science Tools |\n",
    "| --- |\n",
    "| TenserFlow |\n",
    "| Apache Hadoop |\n",
    "| SAS |"
   ]
  },
  {
   "cell_type": "markdown",
   "id": "3719fc68-7a78-4159-9f74-1da398d85817",
   "metadata": {},
   "source": [
    "Introducing arithmetic expression examples:\n",
    "3+5 = 8; 1*1 = 1"
   ]
  },
  {
   "cell_type": "code",
   "execution_count": 18,
   "id": "378f11d8-f903-4d67-9d66-1ee86015c094",
   "metadata": {},
   "outputs": [
    {
     "data": {
      "text/plain": [
       "13"
      ]
     },
     "execution_count": 18,
     "metadata": {},
     "output_type": "execute_result"
    }
   ],
   "source": [
    "3+5*2"
   ]
  },
  {
   "cell_type": "code",
   "execution_count": 22,
   "id": "19aa95e2-6008-468b-9c71-ea9fadf99201",
   "metadata": {},
   "outputs": [
    {
     "data": {
      "text/plain": [
       "0.03333333333333333"
      ]
     },
     "execution_count": 22,
     "metadata": {},
     "output_type": "execute_result"
    }
   ],
   "source": [
    "# This is how to convert 2 minut into hours\n",
    "2/60"
   ]
  },
  {
   "cell_type": "code",
   "execution_count": null,
   "id": "fac4acba-2da8-4bc4-beaa-e78408fc188d",
   "metadata": {},
   "outputs": [],
   "source": [
    "Objetives:\n",
    "- List of"
   ]
  }
 ],
 "metadata": {
  "kernelspec": {
   "display_name": "Python 3 (ipykernel)",
   "language": "python",
   "name": "python3"
  },
  "language_info": {
   "codemirror_mode": {
    "name": "ipython",
    "version": 3
   },
   "file_extension": ".py",
   "mimetype": "text/x-python",
   "name": "python",
   "nbconvert_exporter": "python",
   "pygments_lexer": "ipython3",
   "version": "3.12.7"
  }
 },
 "nbformat": 4,
 "nbformat_minor": 5
}
